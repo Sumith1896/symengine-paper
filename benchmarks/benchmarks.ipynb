{
 "cells": [
  {
   "cell_type": "code",
   "execution_count": null,
   "metadata": {
    "collapsed": false
   },
   "outputs": [],
   "source": [
    "'''\n",
    "Instructions to run the benchmarks:\n",
    "\n",
    "Use Python 3 to run this script\n",
    "For SymEngine benchmarks compile with -DWITH_TCMALLOC=yes -DWITH_FLINT=yes -DINTEGER_CLASS=flint\n",
    "For GiNaC benchmarks compile with the same CXX flags as SymEngine\n",
    "Move (or symlink) all the benchmarks from symengine/symengine repo and symengine/symengine.py repo to this folder\n",
    "'''\n",
    "\n",
    "from subprocess import Popen, PIPE, TimeoutExpired\n",
    "import json\n",
    "import os\n",
    "import signal\n",
    "\n",
    "test1 = [\"expand2\", list(range(4, 50, 2))]\n",
    "test2 = [\"expand6\", list(range(100, 1100, 100))]\n",
    "test4 = [\"expand6b\", list(range(100, 1100, 100))]\n",
    "test3 = [\"expand7\", list(range(10, 50, 3))]\n",
    "test5 = [\"symengine_bench\", list(range(10, 41, 2))]\n",
    "\n",
    "tests = [test1, test2, test3, test4, test5]\n",
    "for test in tests:\n",
    "    name = test[0]\n",
    "    param = test[1][:]\n",
    "    for b in range(6):\n",
    "        lib = [\"./%s %s\",\"./%s_ginac %s\", \"./%s.m %s\", \"./%s.py %s\", \"maple -q %s.mpl -D n=%s\", \"./%s_piranha %s\"][b]\n",
    "        time = [float('inf')] * len(test[1])\n",
    "        for i in range(len(param)):\n",
    "            test_name = lib % (name, param[i])\n",
    "            command = 'LD_PRELOAD=/usr/lib/libtcmalloc.so '+test_name\n",
    "            with Popen(command, shell=True, stdout=PIPE, preexec_fn=os.setsid) as process:\n",
    "                try:\n",
    "                    output = process.communicate(timeout=120)[0]\n",
    "                    #print(output, command)\n",
    "                    time[i] = float(output.splitlines()[0].decode('utf-8').replace(\"ms\", \"\").strip())\n",
    "                    time[i] = max(0.01, time[i])\n",
    "                except TimeoutExpired:\n",
    "                    os.killpg(process.pid, signal.SIGINT) # send signal to the process group\n",
    "                    break\n",
    "            #print(test_name, time[i])\n",
    "        test.append(time)\n",
    "        print(time)\n",
    "with open('data.json', 'w') as f:\n",
    "    f.write(json.dumps(tests, indent=2))"
   ]
  },
  {
   "cell_type": "code",
   "execution_count": null,
   "metadata": {
    "collapsed": false,
    "scrolled": true
   },
   "outputs": [],
   "source": [
    "%matplotlib inline\n",
    "import matplotlib.pyplot as plt\n",
    "import json\n",
    "import numpy as np\n",
    "from matplotlib.ticker import FormatStrFormatter\n",
    "with open('data.json', 'r') as f:\n",
    "    tests = json.loads(f.read())\n",
    "for test in tests:\n",
    "    name = test[0]\n",
    "    param = test[1][:]\n",
    "    for i in range(2, len(test)):\n",
    "        test[i] = np.array(test[i])/1000 # convert from ms to s\n",
    "    if (len(test) > 4):\n",
    "        plt.loglog(param, test[2], 'go-', label=\"SymEngine\")\n",
    "        plt.loglog(param, test[3], 'bo-', label=\"GiNaC\")\n",
    "        plt.loglog(param, test[4], 'ro-', label=\"Mathematica\")\n",
    "        plt.loglog(param, test[5], 'yo-', label=\"SymPy\")\n",
    "        plt.loglog(param, test[6], 'co-', label=\"Maple\")\n",
    "    else:\n",
    "        plt.loglog(param, test[2], 'go-', label=\"SymEngine\")\n",
    "        plt.loglog(param, test[3], 'yo-', label=\"SymPy\")\n",
    "        \n",
    "    if (len(test) > 7):\n",
    "        plt.loglog(param, test[-1], 'mo-', label=\"Piranha\")\n",
    "        \n",
    "    plt.xlim([param[0]*0.9, param[-1]*1.1])\n",
    "    plt.xlabel('N')\n",
    "    plt.ylabel('Time [s]')\n",
    "    plt.title(\"Benchmark \"+name)\n",
    "    lgd = plt.legend(loc='center right', bbox_to_anchor=(1.4, 0.5))\n",
    "    plt.gca().xaxis.grid(which=\"both\")\n",
    "    plt.gca().yaxis.grid()\n",
    "    plt.tick_params(axis='x', which='minor')\n",
    "    plt.gca().xaxis.set_minor_formatter(FormatStrFormatter(\"%.0f\"))\n",
    "    plt.show()"
   ]
  },
  {
   "cell_type": "code",
   "execution_count": null,
   "metadata": {
    "collapsed": true
   },
   "outputs": [],
   "source": []
  }
 ],
 "metadata": {
  "kernelspec": {
   "display_name": "Python 3",
   "language": "python",
   "name": "python3"
  },
  "language_info": {
   "codemirror_mode": {
    "name": "ipython",
    "version": 3
   },
   "file_extension": ".py",
   "mimetype": "text/x-python",
   "name": "python",
   "nbconvert_exporter": "python",
   "pygments_lexer": "ipython3",
   "version": "3.5.1+"
  },
  "widgets": {
   "state": {},
   "version": "1.1.1"
  }
 },
 "nbformat": 4,
 "nbformat_minor": 0
}
